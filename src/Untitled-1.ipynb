{
 "cells": [
  {
   "cell_type": "code",
   "execution_count": 1,
   "metadata": {},
   "outputs": [],
   "source": [
    "import os\n",
    "from ollama import Client\n",
    "from pydantic import BaseModel\n",
    "from devtools import pprint\n",
    "\n",
    "from dotenv import load_dotenv\n",
    "%load_ext dotenv\n",
    "%dotenv"
   ]
  },
  {
   "cell_type": "code",
   "execution_count": 2,
   "metadata": {},
   "outputs": [],
   "source": [
    "HOST_LLAMA=os.environ['HOST_LLAMA']\n",
    "LLAMA_MODEL=\"llama3.2\"\n",
    "\n",
    "client = Client(\n",
    "  host=HOST_LLAMA,\n",
    "  headers={'x-some-header': 'some-value'}\n",
    ")\n"
   ]
  },
  {
   "cell_type": "markdown",
   "metadata": {},
   "source": [
    "# General Tests"
   ]
  },
  {
   "cell_type": "code",
   "execution_count": null,
   "metadata": {},
   "outputs": [],
   "source": [
    "class FictitiousCharacter(BaseModel):\n",
    "  familyName:   str\n",
    "  givenName:    str\n",
    "  country:      str\n",
    "  description:  str\n",
    "\n",
    "response = client.chat(\n",
    "  messages=[\n",
    "    {\n",
    "      'role': 'user',\n",
    "      'content': 'Tell me about Pedro Sanchez, a fictitious character you just made up',\n",
    "    }\n",
    "  ],\n",
    "  model=LLAMA_MODEL,\n",
    "  format=FictitiousCharacter.model_json_schema(),\n",
    ")\n",
    "\n",
    "user = FictitiousCharacter.model_validate_json(response.message.content)"
   ]
  },
  {
   "cell_type": "code",
   "execution_count": null,
   "metadata": {},
   "outputs": [],
   "source": [
    "pprint(user)"
   ]
  },
  {
   "cell_type": "markdown",
   "metadata": {},
   "source": [
    "# LMP Tables"
   ]
  },
  {
   "cell_type": "markdown",
   "metadata": {},
   "source": [
    "## UserChef"
   ]
  },
  {
   "cell_type": "code",
   "execution_count": null,
   "metadata": {},
   "outputs": [],
   "source": [
    "from datetime import date, datetime, time, timedelta\n",
    "from pydantic import TypeAdapter\n",
    "\n",
    "class UserChef(BaseModel):\n",
    "    familyName:     str\n",
    "    givenName:      str\n",
    "    alternateName:  str\n",
    "    nationality:    str\n",
    "    birthDate:      str\n",
    "    gender:         str\n",
    "    description:    str\n",
    "    prefCuisine:    list[str]\n",
    "\n",
    "class groupUserChef(BaseModel):\n",
    "    groupChef:     list[UserChef]\n",
    "    motivation:    str"
   ]
  },
  {
   "cell_type": "code",
   "execution_count": null,
   "metadata": {},
   "outputs": [],
   "source": [
    "# userchef-b1\n",
    "\"\"\"\n",
    "You are the editor-in-chief of a famous international restaurant and cooking guide, open to all audiences, from the most modest to the most gastronomic (for example traditional french cuisine, chinese street food or english bistronomy). You are known for picking out vivid personalities, eager to share their best recipes and opiniated tastes. \n",
    "You want to exhibit one of you favorite chief in the pages of your next issue. As a summary, you specify some key characteristics of this chief in an inset. The outline of these characteristics are:\n",
    "- familyName:     the last name of a person. \n",
    "- givenName:      the first name of a person. \n",
    "- alternateName:  alias for the person. \n",
    "- nationality:    Nationality of the person. \n",
    "- birthDate:      Date of birth.\n",
    "- gender:         Gender of a person.\n",
    "- description:    A short bio of the person.\n",
    "- prefCuisine:    Preferred cuisine types (for example, French, Vietnamian, Bistronomy, Street-Food).\n",
    "\n",
    "Invent a chief, as a fictional but realistic character.\n",
    "\"\"\"\n",
    "\n"
   ]
  },
  {
   "cell_type": "code",
   "execution_count": null,
   "metadata": {},
   "outputs": [],
   "source": [
    "response_b1 = client.chat(\n",
    "  messages=[\n",
    "    {\n",
    "      'role': 'user',\n",
    "      'content': \"\"\"\n",
    "You are the editor-in-chief of a famous international restaurant and cooking guide, open to all audiences, from the most modest to the most gastronomic (for example traditional french cuisine, chinese street food or english bistronomy). You are known for picking out vivid personalities, eager to share their best recipes and opiniated tastes. \n",
    "You want to exhibit one of you favorite chief in the pages of your next issue. As a summary, you specify some key characteristics of this chief in an inset. The outline of these characteristics are:\n",
    "- familyName:     the last name of a person. \n",
    "- givenName:      the first name of a person. \n",
    "- alternateName:  alias for the person. \n",
    "- nationality:    Nationality of the person. \n",
    "- birthDate:      Date of birth.\n",
    "- gender:         Gender of a person.\n",
    "- description:    The bio of the person.\n",
    "- prefCuisine:    Preferred cuisine types (for example, French, Vietnamian, Bistronomy, Street-Food).\n",
    "\n",
    "Invent a chief, as a fictional but realistic character.\n",
    "\"\"\",\n",
    "    }\n",
    "  ],\n",
    "  model=LLAMA_MODEL,\n",
    "  format=UserChef.model_json_schema(),\n",
    ")"
   ]
  },
  {
   "cell_type": "code",
   "execution_count": null,
   "metadata": {},
   "outputs": [],
   "source": [
    "userchef = UserChef.model_validate_json(response_b1.message.content)\n",
    "pprint(userchef)"
   ]
  },
  {
   "cell_type": "code",
   "execution_count": null,
   "metadata": {},
   "outputs": [],
   "source": [
    "response_b2 = client.chat(\n",
    "  messages=[\n",
    "    {\n",
    "      'role': 'user',\n",
    "      'content': \"\"\"\n",
    "You are the editor-in-chief of a famous international restaurant and cooking guide, open to all audiences, from the most modest to the most gastronomic (for example traditional french cuisine, chinese street food or english bistronomy).\n",
    "You want to exhibit some of you favorite chiefs in the pages of your next issue. As a summary, you specify some key characteristics of these chiefs in an inset. The outline of these characteristics are:\n",
    "- familyName:     the last name of a person. \n",
    "- givenName:      the first name of a person. \n",
    "- alternateName:  alias for the person. \n",
    "- nationality:    Nationality of the person. \n",
    "- birthDate:      Date of birth.\n",
    "- gender:         Gender of a person.\n",
    "- description:    The bio of the person.\n",
    "- prefCuisine:    Preferred cuisine types (for example, French, Vietnamian, Bistronomy, Street-Food).\n",
    "\n",
    "Invent five chiefs, as fictional but realistic characters. This group of chiefs shall be as diverse as possible, but complementary. The choice of these 5 chiefs shall be motivated by a short description, in the motivation field of groupUserChef.\n",
    "\"\"\",\n",
    "    }\n",
    "  ],\n",
    "  model=LLAMA_MODEL,\n",
    "  format=groupUserChef.model_json_schema(),\n",
    ")"
   ]
  },
  {
   "cell_type": "code",
   "execution_count": null,
   "metadata": {},
   "outputs": [],
   "source": [
    "userchef_b2 = groupUserChef.model_validate_json(response_b2.message.content)\n",
    "pprint(userchef_b2)"
   ]
  },
  {
   "cell_type": "code",
   "execution_count": null,
   "metadata": {},
   "outputs": [],
   "source": [
    "response_b201 = client.chat(\n",
    "  messages=[\n",
    "    {\n",
    "      'role': 'user',\n",
    "      'content': \"\"\"\n",
    "You are the editor-in-chief of a famous restaurant and cooking guide, open to all audiences, from the most modest to the most gastronomic (for example traditional french cuisine, chinese street food or english bistronomy).\n",
    "You want to exhibit some of you favorite chiefs in the pages of your next issue. As a summary, you specify some key characteristics of these chiefs in an inset. The outline of these characteristics are:\n",
    "- familyName:     the last name of a person. \n",
    "- givenName:      the first name of a person. \n",
    "- alternateName:  alias for the person. \n",
    "- nationality:    Nationality of the person. \n",
    "- birthDate:      Date of birth.\n",
    "- gender:         Gender of a person.\n",
    "- description:    The bio of the person (at least 50 words).\n",
    "- prefCuisine:    Preferred cuisine types (for example, French, Vietnamian, Bistronomy, Street-Food).\n",
    "\n",
    "Invent 6 chiefs, as fictional but realistic characters. This group of chiefs shall be as diverse as possible, but complementary. It shall comprehend at least 2 traditional chiefs, 2 michelin starred chiefs and a househusband/housewife fond of cooking. The choice of these 6 chiefs shall be motivated by a short description, in the motivation field of groupUserChef.\n",
    "\"\"\",\n",
    "    }\n",
    "  ],\n",
    "  model=LLAMA_MODEL,\n",
    "  format=groupUserChef.model_json_schema(),\n",
    ")"
   ]
  },
  {
   "cell_type": "code",
   "execution_count": null,
   "metadata": {},
   "outputs": [],
   "source": [
    "userchef_b201 = groupUserChef.model_validate_json(response_b201.message.content)\n",
    "pprint(userchef_b201)"
   ]
  },
  {
   "cell_type": "code",
   "execution_count": null,
   "metadata": {},
   "outputs": [],
   "source": [
    "userchef_b201"
   ]
  },
  {
   "cell_type": "code",
   "execution_count": null,
   "metadata": {},
   "outputs": [],
   "source": [
    "response_b202 = client.chat(\n",
    "  messages=[\n",
    "    {\n",
    "      'role': 'user',\n",
    "      'content': \"\"\"\n",
    "You are the editor-in-chief of a famous french restaurant and cooking guide, open to all audiences, from the most modest to the most gastronomic.\n",
    "You want to exhibit some of you favorite chiefs, coming from every corner of France, in the pages of your next issue to showcase the wide spectrum of personalities and regional touches. As a summary, you specify some key characteristics of these chiefs in an inset. The outline of these characteristics are:\n",
    "- familyName:     the last name of a person. \n",
    "- givenName:      the first name of a person. \n",
    "- alternateName:  alias for the person. \n",
    "- nationality:    French region of the person. \n",
    "- birthDate:      Date of birth.\n",
    "- gender:         Gender of a person.\n",
    "- description:    The bio of the person (at least 30 words).\n",
    "- prefCuisine:    Preferred cuisine types (for example, French, Bistronomy, Street-Food, Michelin-starred).\n",
    "\n",
    "Invent 6 chiefs, as fictional but realistic characters. This group of chiefs shall be as diverse as possible, but complementary. It shall range from Michelin-starred chief to a househusband/housewife fond of cooking. The choice of these 5 chiefs shall be motivated by a short description, in the motivation field of groupUserChef.\n",
    "\"\"\",\n",
    "    }\n",
    "  ],\n",
    "  model=LLAMA_MODEL,\n",
    "  format=groupUserChef.model_json_schema(),\n",
    ")"
   ]
  },
  {
   "cell_type": "code",
   "execution_count": null,
   "metadata": {},
   "outputs": [],
   "source": [
    "response_b202 = groupUserChef.model_validate_json(response_b202.message.content)\n",
    "pprint(response_b202)"
   ]
  },
  {
   "cell_type": "markdown",
   "metadata": {},
   "source": [
    "## Recipe"
   ]
  },
  {
   "cell_type": "code",
   "execution_count": 3,
   "metadata": {},
   "outputs": [],
   "source": [
    "from typing import List\n",
    "class Recipe(BaseModel):\n",
    "    name:               str\n",
    "    prepTime:           int\n",
    "    cookTime:           int\n",
    "    description:        str\n",
    "    recipeCategory:     str\n",
    "    recipeCuisine:      str\n",
    "    keywords:           list[str]\n",
    "    recipeIngredient:   str\n",
    "    recipeYield:        str\n",
    "    recipeInstructions: str\n",
    "\n",
    "class groupRecipe(BaseModel):\n",
    "    recipes:            list[Recipe]\n",
    "    motivation:         str"
   ]
  },
  {
   "cell_type": "code",
   "execution_count": null,
   "metadata": {},
   "outputs": [],
   "source": [
    "r_recipe_b1 = client.chat(\n",
    "  messages=[\n",
    "    {\n",
    "      'role': 'user',\n",
    "      'content': \"\"\"\n",
    "You are a cooking-enjoyer, doing simple recipes but delicate. You want to share your favorite recipe to your friends and copy it on a piece of paper. You indicate the characteristics of the recipes, the ingredients and the steps in an orderly fashion: \n",
    "- name: The name of the dish\n",
    "- prepTime: The length of time it takes to prepare ingredients and workspace for the dish\n",
    "- cookTime:\tThe time it takes to actually cook the dish\n",
    "- description: A short summary describing the dish.\n",
    "- recipeCategory: The type of meal or course your recipe is about. For example: \"dinner\", \"main course\", or \"dessert, snack\".\n",
    "- recipeCuisine: The region associated with your recipe. For example, \"French\", Mediterranean\", or \"American\".\n",
    "- keywords: Other terms for your recipe such as the season (\"summer\"), the holiday (\"Halloween\"), or other descriptors (\"quick\", \"easy\", \"authentic\").\n",
    "- recipeIngredient: The necessary ingredients and their quantities used in the recipe.\n",
    "- recipeYield: The quantity produced by the recipe, if applicable. Specify the number of servings produced from this recipe with just a number.\n",
    "- recipeInstructions: The steps to make the dish.\n",
    "\"\"\"\n",
    "    }\n",
    "  ],\n",
    "  model=LLAMA_MODEL,\n",
    "  format=Recipe.model_json_schema(),\n",
    ")"
   ]
  },
  {
   "cell_type": "code",
   "execution_count": null,
   "metadata": {},
   "outputs": [],
   "source": [
    "recipe_b1 = Recipe.model_validate_json(r_recipe_b1.message.content)\n",
    "pprint(recipe_b1)"
   ]
  },
  {
   "cell_type": "code",
   "execution_count": null,
   "metadata": {},
   "outputs": [],
   "source": [
    "r_recipe_b2 = client.chat(\n",
    "  messages=[\n",
    "    {\n",
    "      'role': 'user',\n",
    "      'content': \"\"\"\n",
    "You are Jean-Pierre Bourgeois, born in 1955-04-15, experienced in French and Bistronomy cuisine types. Your bio is the following: 'Jean-Pierre Bourgeois, a seasoned chef from the Languedoc-Roussillon region, has spent his career exploring the rich culinary heritage of Southern France. He now shares this knowledge with younger generations through cooking classes and workshops.'\n",
    "\n",
    "You want to write a cookbook concealing your favorite recipes to share to the next generation. You indicate the characteristics of the recipes, the ingredients and the steps in an orderly fashion: \n",
    "- name: The name of the dish\n",
    "- prepTime: The length of time it takes to prepare ingredients and workspace for the dish\n",
    "- cookTime:\tThe time it takes to actually cook the dish\n",
    "- description: A short summary describing the dish.\n",
    "- recipeCategory: The type of meal or course your recipe is about. For example: \"dinner\", \"main course\", or \"dessert, snack\".\n",
    "- recipeCuisine: The region associated with your recipe. For example, \"French\", Mediterranean\", or \"American\".\n",
    "- keywords: Other terms for your recipe such as the season (\"summer\"), the holiday (\"Halloween\"), or other descriptors (\"quick\", \"easy\", \"authentic\").\n",
    "- recipeIngredient: The necessary ingredients and their quantities used in the recipe.\n",
    "- recipeYield: The quantity produced by the recipe, if applicable. Specify the number of servings produced from this recipe with just a number.\n",
    "- recipeInstructions: The steps to make the dish.\n",
    "\n",
    "Invent the 6 key recipes of Jean-Pierre Bourgeois. The choice of these 6 recipes shall include at least one appetizer, one main dish, one desert and one drink. This choice shall be motivated by a short description, in the motivation field of groupRecipe. Your favorite - and most exortic - ingredient shall be featured in at least one of those recipes, and motivated in the secretIntegredient field of groupRecipe.\n",
    "\"\"\"\n",
    "    }\n",
    "  ],\n",
    "  model=LLAMA_MODEL,\n",
    "  format=groupRecipe.model_json_schema(),\n",
    ")"
   ]
  },
  {
   "cell_type": "code",
   "execution_count": null,
   "metadata": {},
   "outputs": [],
   "source": [
    "r_recipe_b2 = groupRecipe.model_validate_json(r_recipe_b2.message.content)\n",
    "pprint(r_recipe_b2)"
   ]
  },
  {
   "cell_type": "code",
   "execution_count": 4,
   "metadata": {},
   "outputs": [],
   "source": [
    "r_recipe_b201 = client.chat(\n",
    "  messages=[\n",
    "    {\n",
    "      'role': 'user',\n",
    "      'content': \"\"\"\n",
    "You are Jean-Pierre Bourgeois, born in 1955-04-15, experienced in French and Bistronomy cuisine types. Your bio is the following: 'Jean-Pierre Bourgeois, a seasoned chef from the Languedoc-Roussillon region, has spent his career exploring the rich culinary heritage of Southern France. He now shares this knowledge with younger generations through cooking classes and workshops.'\n",
    "\n",
    "You want to write a cookbook concealing your favorite recipes to share to the next generation, explaining them step by step. You indicate the characteristics of the recipes, the ingredients and the steps in an orderly fashion: \n",
    "- name: The name of the dish\n",
    "- prepTime: The length of time it takes to prepare ingredients and workspace for the dish\n",
    "- cookTime:\tThe time it takes to actually cook the dish\n",
    "- description: A short summary describing the dish.\n",
    "- recipeCategory: The type of meal or course your recipe is about. For example: \"dinner\", \"main course\", or \"dessert, snack\".\n",
    "- recipeCuisine: The region associated with your recipe. For example, \"French\", Mediterranean\", or \"American\".\n",
    "- keywords: Other terms for your recipe such as the season (\"summer\"), the holiday (\"Halloween\"), or other descriptors (\"quick\", \"easy\", \"authentic\").\n",
    "- recipeIngredient: The necessary ingredients and their quantities used in the recipe.\n",
    "- recipeYield: The quantity produced by the recipe, if applicable. Specify the number of servings produced from this recipe with just a number.\n",
    "- recipeInstructions: The steps to make the dish.\n",
    "\n",
    "Invent the 5 key recipes of Jean-Pierre Bourgeois. This choice shall be motivated by a short description, in the motivation field of groupRecipe.\n",
    "\"\"\"\n",
    "    }\n",
    "  ],\n",
    "  model=LLAMA_MODEL,\n",
    "  format=groupRecipe.model_json_schema(),\n",
    ")"
   ]
  },
  {
   "cell_type": "code",
   "execution_count": 5,
   "metadata": {},
   "outputs": [
    {
     "name": "stdout",
     "output_type": "stream",
     "text": [
      "groupRecipe(\n",
      "    recipes=[\n",
      "        Recipe(\n",
      "            name='Tournedos Rossini',\n",
      "            prepTime=30,\n",
      "            cookTime=20,\n",
      "            description='A classic French dish featuring tenderloin steak, seared foie gras, and Madeira wine reduction.',\n",
      "            recipeCategory='dinner',\n",
      "            recipeCuisine='French',\n",
      "            keywords=[\n",
      "                'luxurious',\n",
      "                'seasonal',\n",
      "                'authentic',\n",
      "            ],\n",
      "            recipeIngredient=(\n",
      "                '[400g beef tenderloin, 120g foie gras, 2 tbsp olive oil, 1/4 cup Madeira wine, 1 tsp Dijon mustard, s'\n",
      "                'alt and pepper]'\n",
      "            ),\n",
      "            recipeYield='One',\n",
      "            recipeInstructions=(\n",
      "                '1. Preheat the oven to 200°C. Season the tenderloin with salt and pepper. Sear in a hot pan for 2-3 m'\n",
      "                'inutes on each side. Let it rest. 2. Meanwhile, sear the foie gras in a separate pan until golden bro'\n",
      "                'wn. 3. In a saucepan, reduce the Madeira wine over high heat until almost dry. Stir in mustard and le'\n",
      "                't cool slightly. 4. Assemble the dish by placing the tenderloin on top of the seared foie gras, spoon'\n",
      "                'ing the Madeira reduction over it.'\n",
      "            ),\n",
      "        ),\n",
      "        Recipe(\n",
      "            name='Ratatouille',\n",
      "            prepTime=20,\n",
      "            cookTime=30,\n",
      "            description='A classic Languedoc-Roussillon dish made with eggplant, zucchini, bell peppers, and tomatoes.',\n",
      "            recipeCategory='main course',\n",
      "            recipeCuisine='French',\n",
      "            keywords=[\n",
      "                'vegetarian',\n",
      "                'seasonal',\n",
      "                'easy',\n",
      "            ],\n",
      "            recipeIngredient=(\n",
      "                '[4 medium eggplants, 3 medium zucchinis, 2 medium bell peppers, 1 can of crushed tomatoes (400g), oli'\n",
      "                've oil, salt and pepper]'\n",
      "            ),\n",
      "            recipeYield='8-10 servings',\n",
      "            recipeInstructions=(\n",
      "                '1. Slice all vegetables into thick rounds. Season with salt and pepper. 2. Heat olive oil in a large '\n",
      "                'skillet over medium heat. Add eggplant slices first, followed by zucchinis and bell peppers. Cook unt'\n",
      "                'il tender. 3. In a separate saucepan, combine crushed tomatoes and a pinch of salt. Simmer for about '\n",
      "                '10 minutes. 4. Combine cooked vegetables with the tomato sauce and let it simmer for another 5-7 minu'\n",
      "                'tes.'\n",
      "            ),\n",
      "        ),\n",
      "        Recipe(\n",
      "            name='Tarte aux Amandes',\n",
      "            prepTime=25,\n",
      "            cookTime=35,\n",
      "            description=(\n",
      "                'A rich almond tart originating from Languedoc-Roussillon, with a buttery pastry crust and creamy fran'\n",
      "                'gipane filling.'\n",
      "            ),\n",
      "            recipeCategory='dessert',\n",
      "            recipeCuisine='French',\n",
      "            keywords=[\n",
      "                'sugar',\n",
      "                'nutty',\n",
      "                'authentic',\n",
      "            ],\n",
      "            recipeIngredient='[500g almonds, 200g sugar, 100g ground almonds, 2 eggs, 1 tsp almond extract, butter for the crust]',\n",
      "            recipeYield='8-10 slices',\n",
      "            recipeInstructions=(\n",
      "                '1. Preheat oven to 180°C. Prepare pastry dough by mixing butter with flour and a pinch of salt until '\n",
      "                'crumbly. Press into tart mold. 2. In a separate bowl, grind almonds using a food processor until fine'\n",
      "                '. Add sugar and ground almonds to a bowl and mix well. 3. Beat eggs and almond extract separately. Co'\n",
      "                'mbine egg mixture with the almond mixture and fold gently. 4. Pour frangipane mixture onto the pastry'\n",
      "                ' crust and bake for about 25 minutes.'\n",
      "            ),\n",
      "        ),\n",
      "        Recipe(\n",
      "            name='Bouillabaisse',\n",
      "            prepTime=35,\n",
      "            cookTime=40,\n",
      "            description=(\n",
      "                'A classic fish stew originating from Marseille, Languedoc-Roussillon, featuring a variety of seafood '\n",
      "                'and aromatic vegetables.'\n",
      "            ),\n",
      "            recipeCategory='dinner',\n",
      "            recipeCuisine='Mediterranean',\n",
      "            keywords=[\n",
      "                'fishy',\n",
      "                'hearty',\n",
      "                'traditional',\n",
      "            ],\n",
      "            recipeIngredient=(\n",
      "                '[500g assorted fish pieces (mussels, clams, shrimp), 1 onion, 2 cloves garlic, 2 tbsp olive oil, 2 cu'\n",
      "                'ps fish stock, 1 tsp dried thyme]'\n",
      "            ),\n",
      "            recipeYield='4-6 servings',\n",
      "            recipeInstructions=(\n",
      "                '1. Heat the oven to 180°C. Chop onion and sauté until softened in a pan with olive oil. 2. Mince garl'\n",
      "                'ic and add it to the pot. Stir for another minute. 3. In a separate bowl, mix fish stock with thyme a'\n",
      "                'nd set aside. 4. Combine the fish pieces with sautéed vegetables in a big saucepan, then pour fish st'\n",
      "                'ock over it. Bring to a boil, reduce heat and let simmer for about 10-15 minutes until all seafood is'\n",
      "                ' tender.'\n",
      "            ),\n",
      "        ),\n",
      "    ],\n",
      "    motivation=(\n",
      "        'These classic dishes from Languedoc-Roussillon showcase the rich culinary traditions of Southern France and h'\n",
      "        'ighlight my love for authentic flavors and hearty ingredients.'\n",
      "    ),\n",
      ")\n"
     ]
    }
   ],
   "source": [
    "r_recipe_b201 = groupRecipe.model_validate_json(r_recipe_b201.message.content)\n",
    "pprint(r_recipe_b201)"
   ]
  },
  {
   "cell_type": "code",
   "execution_count": null,
   "metadata": {},
   "outputs": [],
   "source": [
    "r_recipe_b201.model_dump_json()"
   ]
  },
  {
   "cell_type": "code",
   "execution_count": null,
   "metadata": {},
   "outputs": [],
   "source": []
  }
 ],
 "metadata": {
  "kernelspec": {
   "display_name": "web310",
   "language": "python",
   "name": "python3"
  },
  "language_info": {
   "codemirror_mode": {
    "name": "ipython",
    "version": 3
   },
   "file_extension": ".py",
   "mimetype": "text/x-python",
   "name": "python",
   "nbconvert_exporter": "python",
   "pygments_lexer": "ipython3",
   "version": "3.10.12"
  }
 },
 "nbformat": 4,
 "nbformat_minor": 2
}
